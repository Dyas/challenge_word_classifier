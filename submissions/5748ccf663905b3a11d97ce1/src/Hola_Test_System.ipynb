{
 "cells": [
  {
   "cell_type": "code",
   "execution_count": 3,
   "metadata": {
    "collapsed": false
   },
   "outputs": [],
   "source": [
    "import os.path\n",
    "import urllib\n",
    "import json\n",
    "\n",
    "class Hola_Test_System:\n",
    "    _base_url = 'https://hola.org/challenges/word_classifier/testcase/'\n",
    "    _local_path = 'cases/'\n",
    "    \n",
    "    _cases = {}\n",
    "    \n",
    "    def __init__(self, local_path = 'cases/'):\n",
    "        self._local_path = local_path\n",
    "    \n",
    "    def _get_test_case_url(self, case_number):\n",
    "        return self._base_url + str(case_number)\n",
    "    \n",
    "    def _get_test_case_local_path(self, case_number):\n",
    "        return self._local_path + str(case_number) + '.json'\n",
    "    \n",
    "    def load_test_case(self, case_number):\n",
    "        if self._cases.get(case_number, None) is None:\n",
    "            if os.path.isfile(self._get_test_case_local_path(case_number)):\n",
    "                f = open(self._get_test_case_local_path(case_number))\n",
    "                json_data = ''.join(f.readlines())\n",
    "            else:\n",
    "                handler = urllib.urlopen(self._get_test_case_url(case_number))\n",
    "                json_data = ''.join(handler.readlines())\n",
    "                f = open(self._get_test_case_local_path(case_number), 'w+')\n",
    "                f.write(json_data)\n",
    "                f.close()\n",
    "            data = json.loads(json_data)\n",
    "            self._cases[case_number] = data\n",
    "        return self._cases[case_number]\n",
    "    \n",
    "\n",
    "#test_system = Hola_Test_System()\n",
    "#print 'First load'\n",
    "#print test_system.load_test_case(200)\n",
    "#print 'Second load'\n",
    "#print test_system.load_test_case(200)"
   ]
  }
 ],
 "metadata": {
  "kernelspec": {
   "display_name": "Python 2",
   "language": "python",
   "name": "python2"
  },
  "language_info": {
   "codemirror_mode": {
    "name": "ipython",
    "version": 2
   },
   "file_extension": ".py",
   "mimetype": "text/x-python",
   "name": "python",
   "nbconvert_exporter": "python",
   "pygments_lexer": "ipython2",
   "version": "2.7.10"
  }
 },
 "nbformat": 4,
 "nbformat_minor": 0
}
