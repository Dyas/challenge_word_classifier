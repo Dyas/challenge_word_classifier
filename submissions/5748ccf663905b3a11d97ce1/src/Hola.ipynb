{
 "cells": [
  {
   "cell_type": "code",
   "execution_count": 1,
   "metadata": {
    "collapsed": false
   },
   "outputs": [],
   "source": [
    "import random\n",
    "import operator\n",
    "import json"
   ]
  },
  {
   "cell_type": "code",
   "execution_count": 2,
   "metadata": {
    "collapsed": true
   },
   "outputs": [],
   "source": [
    "from Hola_Dictionary import Hola_Dictionary_English, Hola_Dictionary_Stop, Hola_Dictionary\n",
    "from Hola_Dictionary_Statistics import Hola_Dictionary_Markov_Chain, Hola_Dictionary_Statistics\n",
    "from Hola_Test_System import Hola_Test_System"
   ]
  },
  {
   "cell_type": "markdown",
   "metadata": {},
   "source": [
    "Загрузим слова, не входящие в словарь"
   ]
  },
  {
   "cell_type": "code",
   "execution_count": 3,
   "metadata": {
    "collapsed": false
   },
   "outputs": [],
   "source": [
    "eng_dict = Hola_Dictionary_English()\n",
    "eng_dict.read('words.txt')\n",
    "\n",
    "stop_dict = Hola_Dictionary_English()\n",
    "stop_dict.read('stop.txt')"
   ]
  },
  {
   "cell_type": "code",
   "execution_count": 4,
   "metadata": {
    "collapsed": false
   },
   "outputs": [
    {
     "name": "stdout",
     "output_type": "stream",
     "text": [
      "630404\n",
      "654431\n"
     ]
    }
   ],
   "source": [
    "print len(eng_dict.get_words())\n",
    "print len(stop_dict.get_words())"
   ]
  },
  {
   "cell_type": "code",
   "execution_count": 5,
   "metadata": {
    "collapsed": true
   },
   "outputs": [],
   "source": [
    "eng_chain = Hola_Dictionary_Markov_Chain(eng_dict, order=3)\n",
    "eng_chain.train(0.99)"
   ]
  },
  {
   "cell_type": "code",
   "execution_count": 6,
   "metadata": {
    "collapsed": true
   },
   "outputs": [],
   "source": [
    "eng_chain.save_to_file('mc_eng_3_99.json')"
   ]
  },
  {
   "cell_type": "code",
   "execution_count": 13,
   "metadata": {
    "collapsed": false
   },
   "outputs": [
    {
     "name": "stdout",
     "output_type": "stream",
     "text": [
      "21952\n"
     ]
    }
   ],
   "source": [
    "print len(eng_chain._chain)"
   ]
  },
  {
   "cell_type": "code",
   "execution_count": 7,
   "metadata": {
    "collapsed": true
   },
   "outputs": [],
   "source": [
    "stop_chain = Hola_Dictionary_Markov_Chain(stop_dict, order=3)\n",
    "stop_chain.train(0.99)"
   ]
  },
  {
   "cell_type": "code",
   "execution_count": 8,
   "metadata": {
    "collapsed": true
   },
   "outputs": [],
   "source": [
    "stop_chain.save_to_file('mc_stop_3_99.json')"
   ]
  },
  {
   "cell_type": "code",
   "execution_count": 15,
   "metadata": {
    "collapsed": true
   },
   "outputs": [],
   "source": [
    "class Hola_Dictionary_Rare(Hola_Dictionary_English):\n",
    "    _stat = None\n",
    "    _filtered = {}\n",
    "    \n",
    "    def get_rare_words(self, percentile):\n",
    "        if self._stat is None:\n",
    "            self._stat = Hola_Dictionary_Statistics(self)\n",
    "        if self._filtered.get(percentile) is not None:\n",
    "            return self._filtered[percentile]\n",
    "        signed_len = self._stat.get_significant_length(percentile)\n",
    "        filtered = []\n",
    "        for word in self.get_words():\n",
    "            if len(word) not in signed_len:\n",
    "                filtered.append(word)\n",
    "        self._filtered[percentile] = filtered\n",
    "        return filtered\n",
    "    \n",
    "    def save_to_file(self, file_name, percentile):\n",
    "        rare_words = self.get_rare_words(percentile)\n",
    "        f = open(file_name, 'w+')\n",
    "        f.write(json.dumps(rare_words))\n",
    "        f.close()"
   ]
  },
  {
   "cell_type": "code",
   "execution_count": 16,
   "metadata": {
    "collapsed": false
   },
   "outputs": [],
   "source": [
    "rare_dict = Hola_Dictionary_Rare()\n",
    "rare_dict.read('words.txt')\n",
    "#rare_dict.save_to_file('rare_95.json', 0.95)\n",
    "#rare_dict.save_to_file('rare_99.json', 0.99)"
   ]
  },
  {
   "cell_type": "markdown",
   "metadata": {},
   "source": [
    "Начинаем подбирать параметры модели"
   ]
  },
  {
   "cell_type": "code",
   "execution_count": 9,
   "metadata": {
    "collapsed": false
   },
   "outputs": [],
   "source": [
    "test_system = Hola_Test_System('test/cases/')     "
   ]
  },
  {
   "cell_type": "code",
   "execution_count": 18,
   "metadata": {
    "collapsed": false
   },
   "outputs": [
    {
     "name": "stdout",
     "output_type": "stream",
     "text": [
      "[3, 4, 5, 6, 7, 8, 9, 10, 11, 12, 13, 14, 15, 16, 17]\n"
     ]
    }
   ],
   "source": [
    "rare_words = rare_dict.get_rare_words(0.99)\n",
    "stat = Hola_Dictionary_Statistics(eng_dict)\n",
    "signed_len = stat.get_significant_length(0.99)\n",
    "print sorted(signed_len)"
   ]
  },
  {
   "cell_type": "code",
   "execution_count": 11,
   "metadata": {
    "collapsed": false
   },
   "outputs": [],
   "source": [
    "def run_test(param, count, LOG):\n",
    "    random.seed(48327104)\n",
    "    test_cases_start = random.randint(1000000000, 9000000000)\n",
    "    test_cases_count = count\n",
    "    test_case_numbers = range(test_cases_start, test_cases_start + test_cases_count)\n",
    "\n",
    "    correct = 0\n",
    "    tf = 0\n",
    "    ft = 0\n",
    "    total = 0\n",
    "    min_list = []\n",
    "\n",
    "\n",
    "    for test_cases_number in test_case_numbers:\n",
    "        test_case = test_system.load_test_case(test_cases_number)\n",
    "        for word_with_suffix in test_case:\n",
    "            word = word_with_suffix#.replace(\"'s\", '')\n",
    "            total += 1\n",
    "            p_eng_list = eng_chain.test(word)\n",
    "            p_stop_list = stop_chain.test(word)\n",
    "        \n",
    "            prod_eng = reduce(operator.mul, [p for p in p_eng_list], 1)\n",
    "            prod_stop = reduce(operator.mul, [p for p in p_stop_list], 1)\n",
    "            if prod_eng == 0:\n",
    "                result = False\n",
    "            elif prod_eng > prod_stop:\n",
    "                result = True\n",
    "                if len(word) < 5:\n",
    "                    result = False\n",
    "                diff = [(s/e) for s, e in zip(p_stop_list, p_eng_list)]\n",
    "                if max(diff) > 8:\n",
    "                    result = False\n",
    "                if len(word) > 13:\n",
    "                    result = False\n",
    "            else:\n",
    "                result = False\n",
    "                \n",
    "                \n",
    "            #if len(word) not in signed_len:\n",
    "            #    result = word in rare_words\n",
    "            \n",
    "            if result == test_case[word_with_suffix]:\n",
    "                correct += 1\n",
    "                \n",
    "            else:\n",
    "                \n",
    "                if result:\n",
    "                    #print word\n",
    "                    #print [\"%.2f\" % p for p in p_eng_list]\n",
    "                    #print [\"%.2f\" % p for p in p_stop_list]\n",
    "                    tf += 1\n",
    "                else:                    \n",
    "                    ft += 1\n",
    "                    \n",
    "    correct = correct / float(total)\n",
    "    tf = tf / float(total)\n",
    "    ft = ft / float(total)\n",
    "    return correct, tf, ft"
   ]
  },
  {
   "cell_type": "code",
   "execution_count": 12,
   "metadata": {
    "collapsed": false
   },
   "outputs": [
    {
     "name": "stdout",
     "output_type": "stream",
     "text": [
      "9 :  0.65155 0.2571 0.09135\n",
      "0.65155 9\n"
     ]
    }
   ],
   "source": [
    "import numpy as np\n",
    "\n",
    "max_correct = 0\n",
    "max_correct_param = None\n",
    "for param in np.arange(9, 10, 1):\n",
    "    correct, tf, ft = run_test(param, 200, 1)\n",
    "    print param, ': ', correct, tf, ft\n",
    "    if correct > max_correct:\n",
    "        max_correct = correct\n",
    "        max_correct_param = param\n",
    "        \n",
    "print max_correct, max_correct_param"
   ]
  }
 ],
 "metadata": {
  "kernelspec": {
   "display_name": "Python 2",
   "language": "python",
   "name": "python2"
  },
  "language_info": {
   "codemirror_mode": {
    "name": "ipython",
    "version": 2
   },
   "file_extension": ".py",
   "mimetype": "text/x-python",
   "name": "python",
   "nbconvert_exporter": "python",
   "pygments_lexer": "ipython2",
   "version": "2.7.10"
  }
 },
 "nbformat": 4,
 "nbformat_minor": 0
}
